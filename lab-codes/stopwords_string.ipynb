{
 "cells": [
  {
   "cell_type": "code",
   "execution_count": 1,
   "id": "13a80bbd-c922-4c2c-a6f1-61768a584d2e",
   "metadata": {},
   "outputs": [],
   "source": [
    "from nltk.corpus import stopwords"
   ]
  },
  {
   "cell_type": "code",
   "execution_count": 3,
   "id": "9d5e87bd-6e76-4fc4-9b06-5a2dfda80bfb",
   "metadata": {},
   "outputs": [
    {
     "name": "stdout",
     "output_type": "stream",
     "text": [
      "{'not', 'here', 'more', 'by', 'which', 'these', 'doesn', 'no', 'y', 'ourselves', 'over', \"that'll\", 'through', 'and', 'above', \"wasn't\", 'aren', 'out', 'such', 'has', 'now', 'those', 'our', 'as', 'ours', 'her', \"you're\", 'for', 'that', 'their', 'only', \"shan't\", 'before', 'weren', 'my', 'mightn', \"you'd\", 'couldn', 'wouldn', 'again', \"doesn't\", 'below', \"aren't\", 'same', 'most', 'where', 'ain', 'you', 'ma', \"mightn't\", 'at', 'after', 'an', 'did', 'some', 'while', 'between', 'isn', 'a', \"needn't\", 'does', \"couldn't\", 'about', 's', \"won't\", 'until', 'its', 'itself', 'or', \"shouldn't\", 'but', 'were', 'i', 'don', \"hadn't\", \"you've\", 'how', 'yourself', 'when', 'mustn', 've', 'it', 'the', 'on', 'once', 't', 'yourselves', 'each', \"isn't\", 'are', 'had', 'under', 'too', \"hasn't\", 'can', \"didn't\", \"haven't\", 'any', 'have', 'up', 'am', 'if', 'with', 'there', 'm', 'nor', 'should', 'both', 'few', \"mustn't\", 're', 'she', 'we', 'be', 'll', 'himself', 'them', 'all', \"it's\", 'to', 'they', 'myself', 'haven', 'themselves', 'wasn', 'him', 'was', 'why', \"weren't\", 'down', 'this', 'than', 'me', 'because', 'being', 'shouldn', 'own', 'other', 'of', 'doing', 'won', 'herself', 'will', 'very', 'hasn', 'his', 'during', 'who', 'been', 'shan', 'he', \"you'll\", \"should've\", 'theirs', \"she's\", 'so', 'then', 'yours', 'having', 'further', \"don't\", 'what', 'is', 'your', \"wouldn't\", 'from', 'o', 'didn', 'hers', 'd', 'against', 'hadn', 'into', 'in', 'off', 'whom', 'do', 'just', 'needn'}\n"
     ]
    }
   ],
   "source": [
    "stop_w = set(stopwords.words('english'))\n",
    "print(stop_w)"
   ]
  },
  {
   "cell_type": "code",
   "execution_count": 7,
   "id": "6cf55db0-5eef-4f6c-8c5f-fa1aa21415b4",
   "metadata": {},
   "outputs": [
    {
     "name": "stdin",
     "output_type": "stream",
     "text": [
      "Enter your string:  so then, she is yours\n"
     ]
    },
    {
     "name": "stdout",
     "output_type": "stream",
     "text": [
      "no. of stopwords are: 4\n",
      "First three characters are so \n",
      "Last three characters are: urs\n"
     ]
    }
   ],
   "source": [
    "userInp = input('Enter your string: ')\n",
    "words = userInp.split()\n",
    "count_stopwords = sum(1 for w in words if w.lower() in stop_w)\n",
    "print(f\"no. of stopwords are: {count_stopwords}\")\n",
    "\n",
    "#displaying first 3 and last three characters in the string\n",
    "print(f\"First three characters are {userInp[:3]}\\nLast three characters are: {userInp[-3:]}\")"
   ]
  },
  {
   "cell_type": "code",
   "execution_count": null,
   "id": "48ca6f66-56f9-4863-9776-d698e41052bc",
   "metadata": {},
   "outputs": [],
   "source": []
  }
 ],
 "metadata": {
  "kernelspec": {
   "display_name": "Python 3 (ipykernel)",
   "language": "python",
   "name": "python3"
  },
  "language_info": {
   "codemirror_mode": {
    "name": "ipython",
    "version": 3
   },
   "file_extension": ".py",
   "mimetype": "text/x-python",
   "name": "python",
   "nbconvert_exporter": "python",
   "pygments_lexer": "ipython3",
   "version": "3.8.10"
  }
 },
 "nbformat": 4,
 "nbformat_minor": 5
}
