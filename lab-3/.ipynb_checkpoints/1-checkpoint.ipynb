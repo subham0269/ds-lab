{
 "cells": [
  {
   "cell_type": "code",
   "execution_count": null,
   "id": "0e987ad8-a021-41b3-af2c-7ec59ff939dd",
   "metadata": {},
   "outputs": [],
   "source": [
    "#Write a program in python to take input from a file while user will give the filename as input.\n",
    "\n",
    "# Function to read content from a file\n",
    "def read_file_content(filename):\n",
    "    try:\n",
    "        with open(filename, 'r') as file:\n",
    "            content = file.read()\n",
    "            print(\"Content of the file:\")\n",
    "            print(content)\n",
    "    except FileNotFoundError:\n",
    "        print(\"File not found. Please make sure the file name is correct and try again.\")\n",
    "\n",
    "# Main code\n",
    "if __name__ == \"__main__\":\n",
    "    # Take input for the filename\n",
    "    filename = input(\"Enter the filename: \")\n",
    "\n",
    "    # Call the function to read content from the specified file\n",
    "    read_file_content(filename)"
   ]
  }
 ],
 "metadata": {
  "kernelspec": {
   "display_name": "Python 3 (ipykernel)",
   "language": "python",
   "name": "python3"
  },
  "language_info": {
   "codemirror_mode": {
    "name": "ipython",
    "version": 3
   },
   "file_extension": ".py",
   "mimetype": "text/x-python",
   "name": "python",
   "nbconvert_exporter": "python",
   "pygments_lexer": "ipython3",
   "version": "3.8.10"
  }
 },
 "nbformat": 4,
 "nbformat_minor": 5
}
