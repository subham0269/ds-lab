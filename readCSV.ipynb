{
 "cells": [
  {
   "cell_type": "code",
   "execution_count": 5,
   "id": "81fcbe6c-4272-4e4c-a59c-6b4fc5929e1d",
   "metadata": {},
   "outputs": [],
   "source": [
    "import pandas as pd"
   ]
  },
  {
   "cell_type": "code",
   "execution_count": 7,
   "id": "ee05b733-9623-4cff-8571-ea74a1577bfd",
   "metadata": {},
   "outputs": [
    {
     "name": "stdout",
     "output_type": "stream",
     "text": [
      "   ROLL  NAME  Marks\n",
      "0     1  AAAA    100\n",
      "1     2  BBBB    200\n",
      "2     3  CCCC    300\n"
     ]
    }
   ],
   "source": [
    "data = pd.read_csv('./lab-codes/demo.csv')\n",
    "print(data)"
   ]
  },
  {
   "cell_type": "code",
   "execution_count": 10,
   "id": "b3ffee76-337e-40c1-bba5-47f583e94334",
   "metadata": {},
   "outputs": [],
   "source": [
    "import csv"
   ]
  },
  {
   "cell_type": "code",
   "execution_count": 12,
   "id": "67149a4e-a431-4832-9ed6-58bf2bbf9749",
   "metadata": {},
   "outputs": [
    {
     "name": "stdout",
     "output_type": "stream",
     "text": [
      "Roll: ROLL\n",
      "Name: NAME\n",
      "Marks: Marks\n",
      "Roll: 1\n",
      "Name: AAAA\n",
      "Marks: 100\n",
      "Roll: 2\n",
      "Name: BBBB\n",
      "Marks: 200\n",
      "Roll: 3\n",
      "Name: CCCC\n",
      "Marks: 300\n"
     ]
    }
   ],
   "source": [
    "with open('./lab-codes/demo.csv', 'r') as file:\n",
    "    csv_reader = csv.reader(file)\n",
    "    for r in csv_reader:\n",
    "        print(f\"Roll: {r[0]}\")\n",
    "        print(f\"Name: {r[1]}\")\n",
    "        print(f\"Marks: {r[2]}\")"
   ]
  },
  {
   "cell_type": "code",
   "execution_count": null,
   "id": "116ede14-46a8-42ad-8d31-4795eb5f6dbb",
   "metadata": {},
   "outputs": [],
   "source": []
  }
 ],
 "metadata": {
  "kernelspec": {
   "display_name": "Python 3 (ipykernel)",
   "language": "python",
   "name": "python3"
  },
  "language_info": {
   "codemirror_mode": {
    "name": "ipython",
    "version": 3
   },
   "file_extension": ".py",
   "mimetype": "text/x-python",
   "name": "python",
   "nbconvert_exporter": "python",
   "pygments_lexer": "ipython3",
   "version": "3.8.10"
  }
 },
 "nbformat": 4,
 "nbformat_minor": 5
}
